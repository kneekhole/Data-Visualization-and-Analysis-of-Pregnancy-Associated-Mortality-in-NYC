{
 "cells": [
  {
   "cell_type": "markdown",
   "id": "a91cb5c6",
   "metadata": {},
   "source": [
    "## Investigating Pregnancy Associated Mortality in NYC ##"
   ]
  },
  {
   "cell_type": "markdown",
   "id": "4e3cb37a",
   "metadata": {},
   "source": [
    "### What my Data is. \n",
    "\n",
    "Maternal mortality is widely considered an indicator of overall population health and the status of women \n",
    "in the population. DOHMH uses multiple methods including death certificates, vital records linkage, \n",
    "medical examiner records, and hospital discharge data to identify all pregnancy-associated deaths (deaths \n",
    "that occur during pregnancy or within a year of the end of pregnancy) in NYC each year.\n",
    "\n"
   ]
  },
  {
   "cell_type": "markdown",
   "id": "beece0ff",
   "metadata": {},
   "source": [
    "### Where my Data comes from. \n",
    "\n",
    "<b>NYC OPEN DATA</b>\n",
    "\n",
    "The data in this table come from vital records, Maternal Mortality and Morbidity Review Committee (M3RC review process).\n",
    "\n",
    "https://data.cityofnewyork.us/browse?q=Pregnancy-Associated%20Mortality&sortBy=relevance"
   ]
  },
  {
   "cell_type": "markdown",
   "id": "7b441091",
   "metadata": {},
   "source": [
    "### Introducing the Question. \n",
    "\n",
    "What are the most affected areas with respects to each variable (year, underlying cause, race & ethnicity, borough) under consideration?\n",
    "\n",
    "Maternal mortality refers to deaths due to complications from pregnancy or childbirth. A number of women and girls\n",
    "die each day from complications in pregnancy and childbirth. And for every woman who dies, approximately 20 others \n",
    "suffer serious injuries, infections or disabilities.. Almost all maternal deaths can be prevented, as evidenced by \n",
    "the huge disparities found across states of NYC from the data collected.\n",
    "\n",
    "\n",
    "### Why it is Important.\n",
    "\n",
    "Understanding the most affected areas can help us uncover what is being done wrong and what needs to be prevented to \n",
    "reduce these numbers, and the further steps that can be taken in line with this research."
   ]
  },
  {
   "cell_type": "markdown",
   "id": "f816c571",
   "metadata": {},
   "source": [
    "## Data Processing.\n",
    "\n",
    "List the Transformations and Modifications that will need to be made to your Data to Facilitate \n",
    "your Analysis.\n",
    "\n",
    "Due to the privacy laws, a lot of ambiguity was been introduced into the original data resulting to multiple rows \n",
    "passing the same message.\n",
    "\n",
    "- [Point 1: All nan values will be dropped, so as to avoid interference during analysis.]\n",
    "- [Point 2: DataFrame indexing will be used to sieve out rows giving duplicate information.]\n",
    "- [Point 3: Specific information will then be extracted from the transformed dataframe and used to form a new\n",
    "   dataframe which will be melted for our visualisation, comparing the deaths arising as a result of pregnancy \n",
    "   to the total death recorded.]"
   ]
  },
  {
   "cell_type": "markdown",
   "id": "4c08613d",
   "metadata": {},
   "source": [
    "## Analysis.\n",
    "\n",
    "List the Analyses you will use to answer your question.\n",
    " \n",
    "The work carried out on this dataset was mostly EDA (Exploratory Data Analysis), to generate insight and pave way for\n",
    "further and more specific study.\n",
    "\n",
    "- [Point 1: Barplot will be used to visualize the approximate percentage contribution pregnancy related deaths contributed\n",
    "   to the overall death.]\n",
    "- [Point 2: Barplots will be used to visualize the approximate percentage contribution of each distinct category in each column to the total number of death from pregnancy related causes, and compare them to each other for insight on\n",
    "   the next direction.]\n",
    "- [Point 3: Lineplots will be used to visualize and compare the trends of each category in each column to see \n",
    "   similarities between them and the overall trend, as well as each other.]\n",
    "\n"
   ]
  },
  {
   "cell_type": "code",
   "execution_count": 6,
   "id": "d7148c47",
   "metadata": {},
   "outputs": [],
   "source": [
    "import pandas as pd\n",
    "import numpy as np\n",
    "import seaborn as sns\n",
    "%matplotlib inline\n",
    "import matplotlib.pyplot as plt\n",
    "\n",
    "pd.set_option('max_row', None)"
   ]
  },
  {
   "cell_type": "code",
   "execution_count": 7,
   "id": "dc8eb8fe",
   "metadata": {},
   "outputs": [],
   "source": [
    "#import the data\n",
    "pam_df = pd.read_csv('Pregnancy-Associated_Mortality.csv') # load the aid data set"
   ]
  },
  {
   "cell_type": "code",
   "execution_count": 8,
   "id": "1bfc94eb",
   "metadata": {},
   "outputs": [
    {
     "data": {
      "text/plain": [
       "Year                 int64\n",
       "Related             object\n",
       "Underlying_cause    object\n",
       "Race/ethnicity      object\n",
       "Borough             object\n",
       "Deaths               int64\n",
       "dtype: object"
      ]
     },
     "execution_count": 8,
     "metadata": {},
     "output_type": "execute_result"
    }
   ],
   "source": [
    "# The datatypes of the various columns is confirmed to know whether any datatype change is necesary.\n",
    "pam_df.dtypes"
   ]
  },
  {
   "cell_type": "code",
   "execution_count": null,
   "id": "254aaf26",
   "metadata": {},
   "outputs": [],
   "source": []
  }
 ],
 "metadata": {
  "kernelspec": {
   "display_name": "Python 3",
   "language": "python",
   "name": "python3"
  },
  "language_info": {
   "codemirror_mode": {
    "name": "ipython",
    "version": 3
   },
   "file_extension": ".py",
   "mimetype": "text/x-python",
   "name": "python",
   "nbconvert_exporter": "python",
   "pygments_lexer": "ipython3",
   "version": "3.8.8"
  }
 },
 "nbformat": 4,
 "nbformat_minor": 5
}
